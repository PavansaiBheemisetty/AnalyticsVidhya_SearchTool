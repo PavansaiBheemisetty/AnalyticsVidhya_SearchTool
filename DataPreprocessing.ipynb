{
 "cells": [
  {
   "cell_type": "code",
   "execution_count": 1,
   "id": "0977774e-7a3d-4ea2-aa09-f018f78024f6",
   "metadata": {},
   "outputs": [
    {
     "name": "stderr",
     "output_type": "stream",
     "text": [
      "[nltk_data] Downloading package stopwords to\n",
      "[nltk_data]     /Users/pavansai/nltk_data...\n",
      "[nltk_data]   Package stopwords is already up-to-date!\n"
     ]
    },
    {
     "data": {
      "text/plain": [
       "True"
      ]
     },
     "execution_count": 1,
     "metadata": {},
     "output_type": "execute_result"
    }
   ],
   "source": [
    "import ssl\n",
    "import nltk\n",
    "\n",
    "# Create an SSL context that skips certificate verification\n",
    "ssl._create_default_https_context = ssl._create_unverified_context\n",
    "\n",
    "# Download the stopwords or any other NLTK data\n",
    "nltk.download('stopwords')"
   ]
  },
  {
   "cell_type": "code",
   "execution_count": 2,
   "id": "0a42b491-3c69-4835-84c8-039240f985ff",
   "metadata": {},
   "outputs": [],
   "source": [
    "import pandas as pd\n",
    "import re\n",
    "import nltk\n",
    "from sklearn.preprocessing import MinMaxScaler\n",
    "from nltk.corpus import stopwords"
   ]
  },
  {
   "cell_type": "code",
   "execution_count": 3,
   "id": "3ffb4efc-4a68-47d7-85e4-28d23cf8380c",
   "metadata": {},
   "outputs": [
    {
     "data": {
      "text/html": [
       "<div>\n",
       "<style scoped>\n",
       "    .dataframe tbody tr th:only-of-type {\n",
       "        vertical-align: middle;\n",
       "    }\n",
       "\n",
       "    .dataframe tbody tr th {\n",
       "        vertical-align: top;\n",
       "    }\n",
       "\n",
       "    .dataframe thead th {\n",
       "        text-align: right;\n",
       "    }\n",
       "</style>\n",
       "<table border=\"1\" class=\"dataframe\">\n",
       "  <thead>\n",
       "    <tr style=\"text-align: right;\">\n",
       "      <th></th>\n",
       "      <th>S.No</th>\n",
       "      <th>CourseTitle</th>\n",
       "      <th>Level</th>\n",
       "      <th>Time(Hours)</th>\n",
       "      <th>Category</th>\n",
       "      <th>NumberOfLessons</th>\n",
       "      <th>Description</th>\n",
       "      <th>Curriculum</th>\n",
       "      <th>Price</th>\n",
       "    </tr>\n",
       "  </thead>\n",
       "  <tbody>\n",
       "    <tr>\n",
       "      <th>0</th>\n",
       "      <td>1</td>\n",
       "      <td>GenAI Applied to Quantitative Finance: For Con...</td>\n",
       "      <td>Intermediate</td>\n",
       "      <td>1.0</td>\n",
       "      <td>Generative AI</td>\n",
       "      <td>5</td>\n",
       "      <td>This course explores the application of Genera...</td>\n",
       "      <td>Introduction, Overview, Problem Definition: Co...</td>\n",
       "      <td>Free</td>\n",
       "    </tr>\n",
       "    <tr>\n",
       "      <th>1</th>\n",
       "      <td>2</td>\n",
       "      <td>Navigating LLM Tradeoffs: Techniques for Speed...</td>\n",
       "      <td>Beginner</td>\n",
       "      <td>1.0</td>\n",
       "      <td>Generative AI</td>\n",
       "      <td>6</td>\n",
       "      <td>This course provides a concise guide to optimi...</td>\n",
       "      <td>Introduction, Resources, Technique to Increase...</td>\n",
       "      <td>Free</td>\n",
       "    </tr>\n",
       "    <tr>\n",
       "      <th>2</th>\n",
       "      <td>3</td>\n",
       "      <td>Creating Problem-Solving Agents using GenAI fo...</td>\n",
       "      <td>Beginner</td>\n",
       "      <td>1.0</td>\n",
       "      <td>Generative AI</td>\n",
       "      <td>6</td>\n",
       "      <td>This introductory course provides a concise ov...</td>\n",
       "      <td>Introduction, Overview- Count the Number of Ag...</td>\n",
       "      <td>Free</td>\n",
       "    </tr>\n",
       "    <tr>\n",
       "      <th>3</th>\n",
       "      <td>4</td>\n",
       "      <td>Improving Real World RAG Systems: Key Challeng...</td>\n",
       "      <td>Beginner</td>\n",
       "      <td>1.0</td>\n",
       "      <td>Generative AI</td>\n",
       "      <td>12</td>\n",
       "      <td>This course explores the key challenges in bui...</td>\n",
       "      <td>Introduction to RAG Systems, Resources, RAG Sy...</td>\n",
       "      <td>Free</td>\n",
       "    </tr>\n",
       "    <tr>\n",
       "      <th>4</th>\n",
       "      <td>5</td>\n",
       "      <td>Framework to Choose the Right LLM for your Bus...</td>\n",
       "      <td>Beginner</td>\n",
       "      <td>1.0</td>\n",
       "      <td>Generative AI</td>\n",
       "      <td>6</td>\n",
       "      <td>This course will guide you through the process...</td>\n",
       "      <td>Introduction, It’s an LLM World!, Understand Y...</td>\n",
       "      <td>Free</td>\n",
       "    </tr>\n",
       "  </tbody>\n",
       "</table>\n",
       "</div>"
      ],
      "text/plain": [
       "   S.No                                        CourseTitle         Level  \\\n",
       "0     1  GenAI Applied to Quantitative Finance: For Con...  Intermediate   \n",
       "1     2  Navigating LLM Tradeoffs: Techniques for Speed...      Beginner   \n",
       "2     3  Creating Problem-Solving Agents using GenAI fo...      Beginner   \n",
       "3     4  Improving Real World RAG Systems: Key Challeng...      Beginner   \n",
       "4     5  Framework to Choose the Right LLM for your Bus...      Beginner   \n",
       "\n",
       "   Time(Hours)        Category  NumberOfLessons  \\\n",
       "0          1.0  Generative AI                 5   \n",
       "1          1.0  Generative AI                 6   \n",
       "2          1.0  Generative AI                 6   \n",
       "3          1.0  Generative AI                12   \n",
       "4          1.0  Generative AI                 6   \n",
       "\n",
       "                                         Description  \\\n",
       "0  This course explores the application of Genera...   \n",
       "1  This course provides a concise guide to optimi...   \n",
       "2  This introductory course provides a concise ov...   \n",
       "3  This course explores the key challenges in bui...   \n",
       "4  This course will guide you through the process...   \n",
       "\n",
       "                                          Curriculum Price  \n",
       "0  Introduction, Overview, Problem Definition: Co...  Free  \n",
       "1  Introduction, Resources, Technique to Increase...  Free  \n",
       "2  Introduction, Overview- Count the Number of Ag...  Free  \n",
       "3  Introduction to RAG Systems, Resources, RAG Sy...  Free  \n",
       "4  Introduction, It’s an LLM World!, Understand Y...  Free  "
      ]
     },
     "execution_count": 3,
     "metadata": {},
     "output_type": "execute_result"
    }
   ],
   "source": [
    "df = pd.read_csv('AnalyticsVidhya.csv')\n",
    "df.head()"
   ]
  },
  {
   "cell_type": "code",
   "execution_count": 4,
   "id": "e91505cc-6eb6-4cb1-9ee3-02ffbbbf9409",
   "metadata": {},
   "outputs": [],
   "source": [
    "df.dropna(inplace=True)"
   ]
  },
  {
   "cell_type": "code",
   "execution_count": 5,
   "id": "39c3b049-70a6-4cc2-862b-63dfc760accd",
   "metadata": {},
   "outputs": [],
   "source": [
    "def clean_text(text):\n",
    "    # Lowercase the text\n",
    "    text = text.lower()\n",
    "    # Remove special characters, numbers, and punctuation\n",
    "    text = re.sub(r'[^a-zA-Z\\s]', '', text)\n",
    "    # Remove extra spaces\n",
    "    text = re.sub(r'\\s+', ' ', text).strip()\n",
    "    return text"
   ]
  },
  {
   "cell_type": "code",
   "execution_count": 6,
   "id": "16ab23da-b67f-4aa9-80d6-852441dc2620",
   "metadata": {},
   "outputs": [],
   "source": [
    "df['CourseTitle'] = df['CourseTitle'].apply(clean_text)\n",
    "df['Description'] = df['Description'].apply(clean_text)\n",
    "df['Curriculum'] = df['Curriculum'].apply(clean_text)"
   ]
  },
  {
   "cell_type": "code",
   "execution_count": 7,
   "id": "9b4cd152-7f52-4e53-b296-9e710d5de861",
   "metadata": {},
   "outputs": [],
   "source": [
    "stop_words = set(stopwords.words('english'))\n",
    "def remove_stopwords(text):\n",
    "    tokens = text.split()\n",
    "    tokens = [word for word in tokens if word not in stop_words]\n",
    "    return ' '.join(tokens)"
   ]
  },
  {
   "cell_type": "code",
   "execution_count": 8,
   "id": "21cee01f-24ef-4ca7-966b-30c5e68bc470",
   "metadata": {},
   "outputs": [],
   "source": [
    "df['CourseTitle'] = df['CourseTitle'].apply(remove_stopwords)\n",
    "df['Description'] = df['Description'].apply(remove_stopwords)\n",
    "df['Curriculum'] = df['Curriculum'].apply(remove_stopwords)"
   ]
  },
  {
   "cell_type": "code",
   "execution_count": 9,
   "id": "c3362675-e602-4eba-8535-c7e059c01403",
   "metadata": {},
   "outputs": [],
   "source": [
    "scaler = MinMaxScaler()\n",
    "df[['Time(Hours)', 'NumberOfLessons']] = scaler.fit_transform(df[['Time(Hours)', 'NumberOfLessons']])"
   ]
  },
  {
   "cell_type": "code",
   "execution_count": 10,
   "id": "fcdce852-0e34-4f39-8826-7e601635f777",
   "metadata": {},
   "outputs": [],
   "source": [
    "df.drop(columns=['S.No', 'Price'], inplace=True)"
   ]
  },
  {
   "cell_type": "code",
   "execution_count": 11,
   "id": "25071961-8f45-4593-a7ba-7da12da9dfbd",
   "metadata": {},
   "outputs": [
    {
     "data": {
      "text/html": [
       "<div>\n",
       "<style scoped>\n",
       "    .dataframe tbody tr th:only-of-type {\n",
       "        vertical-align: middle;\n",
       "    }\n",
       "\n",
       "    .dataframe tbody tr th {\n",
       "        vertical-align: top;\n",
       "    }\n",
       "\n",
       "    .dataframe thead th {\n",
       "        text-align: right;\n",
       "    }\n",
       "</style>\n",
       "<table border=\"1\" class=\"dataframe\">\n",
       "  <thead>\n",
       "    <tr style=\"text-align: right;\">\n",
       "      <th></th>\n",
       "      <th>CourseTitle</th>\n",
       "      <th>Level</th>\n",
       "      <th>Time(Hours)</th>\n",
       "      <th>Category</th>\n",
       "      <th>NumberOfLessons</th>\n",
       "      <th>Description</th>\n",
       "      <th>Curriculum</th>\n",
       "    </tr>\n",
       "  </thead>\n",
       "  <tbody>\n",
       "    <tr>\n",
       "      <th>0</th>\n",
       "      <td>genai applied quantitative finance control imp...</td>\n",
       "      <td>Intermediate</td>\n",
       "      <td>0.006263</td>\n",
       "      <td>Generative AI</td>\n",
       "      <td>0.005181</td>\n",
       "      <td>course explores application generative ai quan...</td>\n",
       "      <td>introduction overview problem definition commo...</td>\n",
       "    </tr>\n",
       "    <tr>\n",
       "      <th>1</th>\n",
       "      <td>navigating llm tradeoffs techniques speed cost...</td>\n",
       "      <td>Beginner</td>\n",
       "      <td>0.006263</td>\n",
       "      <td>Generative AI</td>\n",
       "      <td>0.007772</td>\n",
       "      <td>course provides concise guide optimizing large...</td>\n",
       "      <td>introduction resources technique increase accu...</td>\n",
       "    </tr>\n",
       "    <tr>\n",
       "      <th>2</th>\n",
       "      <td>creating problemsolving agents using genai act...</td>\n",
       "      <td>Beginner</td>\n",
       "      <td>0.006263</td>\n",
       "      <td>Generative AI</td>\n",
       "      <td>0.007772</td>\n",
       "      <td>introductory course provides concise overview ...</td>\n",
       "      <td>introduction overview count number agents brie...</td>\n",
       "    </tr>\n",
       "    <tr>\n",
       "      <th>3</th>\n",
       "      <td>improving real world rag systems key challenge...</td>\n",
       "      <td>Beginner</td>\n",
       "      <td>0.006263</td>\n",
       "      <td>Generative AI</td>\n",
       "      <td>0.023316</td>\n",
       "      <td>course explores key challenges building realwo...</td>\n",
       "      <td>introduction rag systems resources rag system ...</td>\n",
       "    </tr>\n",
       "    <tr>\n",
       "      <th>4</th>\n",
       "      <td>framework choose right llm business</td>\n",
       "      <td>Beginner</td>\n",
       "      <td>0.006263</td>\n",
       "      <td>Generative AI</td>\n",
       "      <td>0.007772</td>\n",
       "      <td>course guide process selecting suitable large ...</td>\n",
       "      <td>introduction llm world understand business fra...</td>\n",
       "    </tr>\n",
       "  </tbody>\n",
       "</table>\n",
       "</div>"
      ],
      "text/plain": [
       "                                         CourseTitle         Level  \\\n",
       "0  genai applied quantitative finance control imp...  Intermediate   \n",
       "1  navigating llm tradeoffs techniques speed cost...      Beginner   \n",
       "2  creating problemsolving agents using genai act...      Beginner   \n",
       "3  improving real world rag systems key challenge...      Beginner   \n",
       "4                framework choose right llm business      Beginner   \n",
       "\n",
       "   Time(Hours)        Category  NumberOfLessons  \\\n",
       "0     0.006263  Generative AI          0.005181   \n",
       "1     0.006263  Generative AI          0.007772   \n",
       "2     0.006263  Generative AI          0.007772   \n",
       "3     0.006263  Generative AI          0.023316   \n",
       "4     0.006263  Generative AI          0.007772   \n",
       "\n",
       "                                         Description  \\\n",
       "0  course explores application generative ai quan...   \n",
       "1  course provides concise guide optimizing large...   \n",
       "2  introductory course provides concise overview ...   \n",
       "3  course explores key challenges building realwo...   \n",
       "4  course guide process selecting suitable large ...   \n",
       "\n",
       "                                          Curriculum  \n",
       "0  introduction overview problem definition commo...  \n",
       "1  introduction resources technique increase accu...  \n",
       "2  introduction overview count number agents brie...  \n",
       "3  introduction rag systems resources rag system ...  \n",
       "4  introduction llm world understand business fra...  "
      ]
     },
     "execution_count": 11,
     "metadata": {},
     "output_type": "execute_result"
    }
   ],
   "source": [
    "df.head()"
   ]
  },
  {
   "cell_type": "code",
   "execution_count": 12,
   "id": "83967888-2a46-4610-87aa-7eec61c2dfb8",
   "metadata": {},
   "outputs": [],
   "source": [
    "df.to_csv('cleaned_data.csv', index=False)"
   ]
  },
  {
   "cell_type": "code",
   "execution_count": null,
   "id": "8b25981e-aeb1-47e4-bae2-44bc0e70e171",
   "metadata": {},
   "outputs": [],
   "source": []
  }
 ],
 "metadata": {
  "kernelspec": {
   "display_name": "Python 3 (ipykernel)",
   "language": "python",
   "name": "python3"
  },
  "language_info": {
   "codemirror_mode": {
    "name": "ipython",
    "version": 3
   },
   "file_extension": ".py",
   "mimetype": "text/x-python",
   "name": "python",
   "nbconvert_exporter": "python",
   "pygments_lexer": "ipython3",
   "version": "3.11.5"
  }
 },
 "nbformat": 4,
 "nbformat_minor": 5
}
